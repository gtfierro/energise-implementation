{
 "cells": [
  {
   "cell_type": "code",
   "execution_count": 1,
   "metadata": {},
   "outputs": [],
   "source": [
    "import time\n",
    "import requests"
   ]
  },
  {
   "cell_type": "code",
   "execution_count": 93,
   "metadata": {},
   "outputs": [
    {
     "name": "stdout",
     "output_type": "stream",
     "text": [
      "<Response [200]>\n"
     ]
    }
   ],
   "source": [
    "#enable load racks\n",
    "r = requests.get('http://131.243.41.59:9090/control_enable')\n",
    "print(r)"
   ]
  },
  {
   "cell_type": "code",
   "execution_count": 101,
   "metadata": {},
   "outputs": [
    {
     "name": "stdout",
     "output_type": "stream",
     "text": [
      "Time Start = 11:21:12\n",
      "<Response [200]>\n",
      "Time End = 11:21:13\n"
     ]
    }
   ],
   "source": [
    "import requests\n",
    "import time\n",
    "from datetime import datetime\n",
    "now = datetime.now()\n",
    "current_time = now.strftime(\"%H:%M:%S\")\n",
    "print(\"Time Start =\", current_time)\n",
    "\n",
    "r = requests.get('http://131.243.41.59:9090/control?group_id=0,P_ctrl=0')\n",
    "print(r)\n",
    "#time.sleep(600)\n",
    "# r = requests.get('http://131.243.41.59:9090/control?group_id=0,P_ctrl=0')\n",
    "# print(r)\n",
    "# time.sleep(60)\n",
    "\n",
    "# r = requests.get('http://131.243.41.59:9090/control?group_id=1,P_ctrl=2000')\n",
    "# print(r)\n",
    "# time.sleep(600)\n",
    "# r = requests.get('http://131.243.41.59:9090/control?group_id=1,P_ctrl=0')\n",
    "# print(r)\n",
    "# time.sleep(60)\n",
    "\n",
    "# r = requests.get('http://131.243.41.59:9090/control?group_id=2,P_ctrl=2000')\n",
    "# print(r)\n",
    "# time.sleep(600)\n",
    "# r = requests.get('http://131.243.41.59:9090/control?group_id=2,P_ctrl=0')\n",
    "# print(r)\n",
    "\n",
    "now = datetime.now()\n",
    "current_time = now.strftime(\"%H:%M:%S\")\n",
    "print(\"Time End =\", current_time)"
   ]
  },
  {
   "cell_type": "code",
   "execution_count": 125,
   "metadata": {},
   "outputs": [
    {
     "name": "stdout",
     "output_type": "stream",
     "text": [
      "[3]\n",
      "[103]\n",
      "[3]\n",
      "Quadrant change for inv: 103 to quadrant 2\n"
     ]
    }
   ],
   "source": [
    "import numpy as np\n",
    "\n",
    "def modbustoOpal_quadrant(Pcmd_kVA, Qcmd_kVA, Pact, Qact, act_idxs):\n",
    "    IP = '131.243.41.14'\n",
    "    PORT = 504\n",
    "    id = 3\n",
    "    inv_1 = 101\n",
    "    inv_2 = 102\n",
    "    inv_3 = 103\n",
    "    act_idxs_registers = []\n",
    "    pq_changed = []\n",
    "    for i,j in zip(range(len(act_idxs)), act_idxs): #checks to see if any sign changes occured from last command\n",
    "        if np.sign(Pcmd_kVA[i]) != np.sign(Pact[i]) or np.sign(Qcmd_kVA[i]) != np.sign(Qact[i]):\n",
    "            act_idxs_registers.append(j)\n",
    "            pq_changed.append(i)\n",
    "    if len(act_idxs_registers) > 0: #if any quadrant changes, execute modbus, else return.\n",
    "        value = [0] * len(act_idxs_registers)\n",
    "        inv_act_idxs_registers = act_idxs_registers.copy()\n",
    "        client = ModbusClient(IP, port=PORT)\n",
    "        for i in range(len(act_idxs_registers)): # determines which inverters have quadrant change\n",
    "            if inv_act_idxs_registers[i] == 1:\n",
    "                inv_act_idxs_registers[i] = inv_1\n",
    "            elif inv_act_idxs_registers[i] == 2:\n",
    "                inv_act_idxs_registers[i] = inv_2\n",
    "            elif inv_act_idxs_registers[i] == 3:\n",
    "                inv_act_idxs_registers[i] = inv_3\n",
    "        for i,j in zip(pq_changed, range(len(act_idxs_registers))): # determines exact quadrant for inverter\n",
    "            if Pcmd_kVA[i] >= 0 and Qcmd_kVA[i] >= 0: #quadrant 1\n",
    "                value[j] = 1\n",
    "            if Pcmd_kVA[i] < 0 and Qcmd_kVA[i] >= 0: #quadrant 2\n",
    "                value[j] = 2\n",
    "            if Pcmd_kVA[i] < 0 and Qcmd_kVA[i] < 0: #quadrant 3\n",
    "                value[j] = 3\n",
    "            if Pcmd_kVA[i] >= 0 and Qcmd_kVA[i] < 0: #quadrant 4\n",
    "                value[j] = 4\n",
    "        for i in range(len(act_idxs_registers)): # write quadrant changes to modbus registers\n",
    "            client.write_registers(inv_act_idxs_registers[i], value[i] , unit = id)\n",
    "            print('Quadrant change for inv:', inv_act_idxs_registers[i], 'to quadrant', value[i] )\n",
    "    else:\n",
    "        return\n",
    "    \n",
    "Pcmd_kVA = np.array([-10])\n",
    "Qcmd_kVA = np.array([10])\n",
    "Pact = np.array([-10])\n",
    "Qact = np.array([-10])\n",
    "act_idxs = np.array([3])\n",
    "modbustoOpal_quadrant(Pcmd_kVA, Qcmd_kVA, Pact, Qact, act_idxs)"
   ]
  },
  {
   "cell_type": "code",
   "execution_count": null,
   "metadata": {},
   "outputs": [],
   "source": [
    "'test time for modbus quadrant command'\n",
    "\n",
    "IP = '131.243.41.14'\n",
    "PORT = 504\n",
    "id = 3\n",
    "inv_1 = 101\n",
    "inv_2 = 102\n",
    "inv_3 = 103\n",
    "\n",
    "inv_registers = [1,2,3]\n",
    "act_registers = [1,2,3,4]\n",
    "\n",
    "for \n",
    "    client = ModbusClient(IP, port=PORT)\n",
    "\n",
    "    t0=time.time()\n",
    "    client.write_registers(int(1), int(1) , unit = id)\n",
    "    print(f'time to execute: {time.time()-t0}')"
   ]
  },
  {
   "cell_type": "code",
   "execution_count": null,
   "metadata": {
    "collapsed": true
   },
   "outputs": [],
   "source": [
    "def API_inverters(self, act_idxs, Pcmd_kVA, Qcmd_kVA, inv_Pmax, inv_Qmax):\n",
    "    Pcmd_VA = abs(Pcmd_kVA*1000) #abs values for working only in quadrant 1. Will use modbus to determine quadrant\n",
    "    Qcmd_VA = abs(Qcmd_kVA*1000) #abs values for working only in quadrant 1. Will use modbus to determine quadrant\n",
    "    Pcmd_perc = Pcmd_VA/inv_Pmax #Pcmd to inverters must be a percentage of Pmax\n",
    "    Qcmd_perc = Qcmd_VA/inv_Qmax #Qcmd to inverters must be a percentage of Qmax\n",
    "    act_idxs = act_idxs.tolist()\n",
    "    for i in range(len(Pcmd_perc)): # checks Pcmd for inverter limit\n",
    "        if Pcmd_perc[i] > 100:\n",
    "            Pcmd_perc[i] = 100\n",
    "    for j in range(len(Qcmd_perc)): # checks Qcmd for inverter limit\n",
    "        if Qcmd_perc[j] > 100:\n",
    "            Qcmd_perc[j] = 100\n",
    "    for Pcmd_perc_phase, Qcmd_perc_phase, inv in zip(Pcmd_perc, Qcmd_perc, act_idxs):\n",
    "        Pcmd_perc_phase = Pcmd_perc_phase.item() #changes data type from numpy to python int/float\n",
    "        Qcmd_perc_phase = Qcmd_perc_phase.item() #changes data type\n",
    "        inv = inv.item() #changes data type\n",
    "        flexgrid.set_dyn_P(Pcmd_perc_phase,inv)\n",
    "        time.sleep(0.2) #pause so modbus does not crash\n",
    "        flexgrid.set_dyn_Q(Qcmd_perc_phase,inv)\n",
    "        time.sleep(0.2) #pause so modbus does not crash"
   ]
  }
 ],
 "metadata": {
  "kernelspec": {
   "display_name": "Python 3",
   "language": "python",
   "name": "python3"
  },
  "language_info": {
   "codemirror_mode": {
    "name": "ipython",
    "version": 3
   },
   "file_extension": ".py",
   "mimetype": "text/x-python",
   "name": "python",
   "nbconvert_exporter": "python",
   "pygments_lexer": "ipython3",
   "version": "3.7.3"
  }
 },
 "nbformat": 4,
 "nbformat_minor": 2
}
